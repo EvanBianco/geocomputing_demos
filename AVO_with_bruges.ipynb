{
 "cells": [
  {
   "cell_type": "markdown",
   "metadata": {},
   "source": [
    "# Introduction to AVO\n",
    "\n",
    "Trying to reproduce some figures in Blangy, JP, 1994, AVO in tranversely isotropic media—An overview. *Geophysics* **59** (5), 775–781. This is a good starting point, because Blangy defined some rocks very fully and clearly, and provides an anisotropic AVO approximation. So, even if we don't look at his equation in particular, it's a good starting point.\n",
    "\n",
    "Related blog post: [The Blangy equation](http://www.agilegeoscience.com/blog/2014/8/7/the-blangy-equation.html?rq=blangy)\n",
    "\n",
    "The usual prelims:"
   ]
  },
  {
   "cell_type": "code",
   "execution_count": null,
   "metadata": {},
   "outputs": [],
   "source": [
    "import numpy as np\n",
    "import matplotlib.pyplot as plt"
   ]
  },
  {
   "cell_type": "markdown",
   "metadata": {},
   "source": [
    "We'll also load Blangy's test data, from his Table 1:"
   ]
  },
  {
   "cell_type": "code",
   "execution_count": null,
   "metadata": {},
   "outputs": [],
   "source": [
    "type1 = {'shale':      {'vp':3300., 'vs':1700., 'rho':2350., 'd':0.15, 'e':0.30}, \n",
    "         'sand_gas':   {'vp':4200., 'vs':2700., 'rho':2350., 'd':0.00, 'e':0.00},\n",
    "         'sand_water': {'vp':4200., 'vs':2100., 'rho':2450., 'd':0.00, 'e':0.00},\n",
    "         }\n",
    "type2 = {'shale':      {'vp':2896., 'vs':1402., 'rho':2250., 'd':0.15, 'e':0.30},\n",
    "         'sand_gas':   {'vp':3322., 'vs':2215., 'rho':2000., 'd':0.00, 'e':0.00},\n",
    "         'sand_water': {'vp':3322., 'vs':1402., 'rho':2250., 'd':0.00, 'e':0.00},\n",
    "         }\n",
    "type3 = {'shale':      {'vp':2307., 'vs':1108., 'rho':2150., 'd':0.15, 'e':0.30}, \n",
    "         'sand_gas':   {'vp':1951., 'vs':1301., 'rho':1950., 'd':0.00, 'e':0.00},\n",
    "         'sand_water': {'vp':1951., 'vs': 930., 'rho':2200., 'd':0.00, 'e':0.00},\n",
    "         }"
   ]
  },
  {
   "cell_type": "markdown",
   "metadata": {},
   "source": [
    "We'll start with a wet sand case, Type 2. This just defines the rock types we'll need."
   ]
  },
  {
   "cell_type": "code",
   "execution_count": null,
   "metadata": {},
   "outputs": [],
   "source": [
    "# Upper layer\n",
    "vp1 = type2['shale']['vp']\n",
    "vs1 = type2['shale']['vs']\n",
    "rho1 = type2['shale']['rho']\n",
    "\n",
    "# Lower layer\n",
    "vp0 = type2['sand_water']['vp']\n",
    "vs0 = type2['sand_water']['vs']\n",
    "rho0 = type2['sand_water']['rho']\n",
    "\n",
    "# Angle range\n",
    "theta1 = np.arange(0, 45, 1)"
   ]
  },
  {
   "cell_type": "markdown",
   "metadata": {},
   "source": [
    "## Linear Shuey equation\n",
    "\n",
    "Let's start with a bit of maths — [the 2-term Shuey approximation](http://subsurfwiki.org/wiki/Shuey_equation). I'm using the formulation given by Avesth, P, T Mukerji and G Mavko (2005). *Quantitative seismic interpretation.* Cambridge University Press, Cambridge, UK. \n",
    "\n",
    "$$R(\\theta) \\approx R(0) + G \\sin^2 \\theta$$\n",
    "\n",
    "where\n",
    "\n",
    "$$R(0) = \\frac{1}{2} \\left( \\frac{\\Delta V_\\mathrm{P}}{V_\\mathrm{P}} + \\frac{\\Delta \\rho}{\\rho} \\right)$$\n",
    "\n",
    "and\n",
    "\n",
    "$$G = \\frac{1}{2} \\frac{\\Delta V_\\mathrm{P}}{V_\\mathrm{P}} - 2 \\frac{V^2_\\mathrm{S}}{V^2_\\mathrm{P}} \\left( \\frac{\\Delta \\rho}{\\rho} + 2 \\frac{\\Delta V_\\mathrm{S}}{V_\\mathrm{S}}  \\right)$$\n",
    "\n",
    "In these equations, $\\Delta V_\\mathrm{P}$ means the difference in the velocity of the two layers, and $V_\\mathrm{P}$ means the mean of the two layers. Let's make a function to help with this 'difference over mean':"
   ]
  },
  {
   "cell_type": "code",
   "execution_count": null,
   "metadata": {},
   "outputs": [],
   "source": [
    "def dom(upper, lower):\n",
    "    return np.subtract(lower, upper) / np.mean((lower, upper))"
   ]
  },
  {
   "cell_type": "markdown",
   "metadata": {},
   "source": [
    "First term:"
   ]
  },
  {
   "cell_type": "code",
   "execution_count": null,
   "metadata": {},
   "outputs": [],
   "source": [
    "R0 = 0.5 * (dom(vp1, vp0) + dom(rho1, rho0))"
   ]
  },
  {
   "cell_type": "markdown",
   "metadata": {},
   "source": [
    "Second term, in two parts:"
   ]
  },
  {
   "cell_type": "code",
   "execution_count": null,
   "metadata": {},
   "outputs": [],
   "source": [
    "G_1 = 0.5 * dom(vp1, vp0)\n",
    "G_2 = 2 * (np.mean((vs0, vs1))**2 / np.mean((vp0, vp1))**2) * (dom(rho1, rho0) + 2 * dom(vs1, vs0))\n",
    "G = G_1 - G_2"
   ]
  },
  {
   "cell_type": "markdown",
   "metadata": {},
   "source": [
    "Put it all together with the angle term, remembering radians:"
   ]
  },
  {
   "cell_type": "code",
   "execution_count": null,
   "metadata": {},
   "outputs": [],
   "source": [
    "shuey = R0 + G * np.sin(np.radians(theta1))**2"
   ]
  },
  {
   "cell_type": "code",
   "execution_count": null,
   "metadata": {},
   "outputs": [],
   "source": [
    "plt.plot(shuey, 'g', lw=2)\n",
    "plt.show()"
   ]
  },
  {
   "cell_type": "markdown",
   "metadata": {},
   "source": [
    "## Compare to Zoeppritz\n",
    "\n",
    "Let's avoid a lot of algebra and use [our library Bruges](https://github.com/agile-geoscience/bruges) for our equations, so we don't have to define everything from scratch."
   ]
  },
  {
   "cell_type": "code",
   "execution_count": null,
   "metadata": {},
   "outputs": [],
   "source": [
    "import bruges"
   ]
  },
  {
   "cell_type": "code",
   "execution_count": null,
   "metadata": {},
   "outputs": [],
   "source": [
    "zoe = bruges.reflection.zoeppritz_rpp(vp1, vs1, rho1,\n",
    "                                      vp0, vs0, rho0,\n",
    "                                      theta1)"
   ]
  },
  {
   "cell_type": "code",
   "execution_count": null,
   "metadata": {},
   "outputs": [],
   "source": [
    "plt.plot(zoe, 'g', lw=2)\n",
    "plt.plot(shuey)\n",
    "plt.ylim(-0.05, 0.2)\n",
    "plt.axhline(0, color='k')\n",
    "plt.show()"
   ]
  },
  {
   "cell_type": "markdown",
   "metadata": {
    "collapsed": true,
    "tags": [
     "exercise"
    ]
   },
   "source": [
    "### Exercise\n",
    "\n",
    "Try some of the other rocks in Blangy's dataset. What happens if you make a gas reservoir?"
   ]
  },
  {
   "cell_type": "code",
   "execution_count": null,
   "metadata": {},
   "outputs": [],
   "source": [
    "# Upper layer\n",
    "vp1 = type2['shale']['vp']\n",
    "vs1 = type2['shale']['vs']\n",
    "rho1 = type2['shale']['rho']\n",
    "\n",
    "# Lower layer\n",
    "vp0 = type2['sand_gas']['vp']\n",
    "vs0 = type2['sand_gas']['vs']\n",
    "rho0 = type2['sand_gas']['rho']\n",
    "\n",
    "zoe_gas = bruges.reflection.zoeppritz_rpp(vp1, vs1, rho1,\n",
    "                                          vp0, vs0, rho0,\n",
    "                                          theta1)\n",
    "\n",
    "plt.plot(zoe, 'g', lw=2)\n",
    "plt.plot(zoe_gas, 'r')\n",
    "plt.ylim(-0.2, 0.2)\n",
    "plt.axhline(0, color='k')\n",
    "plt.show()"
   ]
  },
  {
   "cell_type": "markdown",
   "metadata": {
    "collapsed": true,
    "tags": [
     "exercise"
    ]
   },
   "source": [
    "### Exercise\n",
    "\n",
    "Try some other approximations in the `bruges.reflection` module."
   ]
  },
  {
   "cell_type": "code",
   "execution_count": null,
   "metadata": {},
   "outputs": [],
   "source": [
    "ar_gas = bruges.reflection.akirichards(vp1, vs1, rho1,\n",
    "                                        vp0, vs0, rho0,\n",
    "                                        theta1)\n",
    "\n",
    "s2_gas = bruges.reflection.shuey2(vp1, vs1, rho1,\n",
    "                                  vp0, vs0, rho0,\n",
    "                                  theta1)\n",
    "\n",
    "s3_gas = bruges.reflection.shuey3(vp1, vs1, rho1,\n",
    "                                  vp0, vs0, rho0,\n",
    "                                  theta1)\n",
    "\n",
    "plt.plot(zoe_gas, label='Zoeppritz')\n",
    "plt.plot(ar_gas, label='Aki-Richards')\n",
    "plt.plot(s2_gas, label='Shuey 2-term')\n",
    "plt.plot(s3_gas, label='Shuey 3-term')\n",
    "plt.legend()\n",
    "plt.ylim(-0.25, 0.05)\n",
    "plt.axhline(0, color='k')\n",
    "plt.grid()\n",
    "plt.show()"
   ]
  },
  {
   "cell_type": "markdown",
   "metadata": {
    "collapsed": true,
    "tags": [
     "exercise"
    ]
   },
   "source": [
    "### Exercise\n",
    "\n",
    "Can you put the reflection coefficient on a time series and use the convolutional model to make a gather?"
   ]
  },
  {
   "cell_type": "code",
   "execution_count": null,
   "metadata": {},
   "outputs": [],
   "source": [
    "rc = np.zeros((100, theta1.size))\n",
    "rc[50,:] = zoe_gas\n",
    "\n",
    "plt.imshow(rc, aspect=0.4)\n",
    "plt.colorbar(shrink=0.8)\n",
    "plt.show()"
   ]
  },
  {
   "cell_type": "code",
   "execution_count": null,
   "metadata": {},
   "outputs": [],
   "source": [
    "w = bruges.filters.ricker(duration=0.05, dt=0.001, f=50)\n",
    "\n",
    "plt.plot(w); plt.show()"
   ]
  },
  {
   "cell_type": "code",
   "execution_count": null,
   "metadata": {},
   "outputs": [],
   "source": [
    "syn = np.apply_along_axis(lambda t: np.convolve(t, w, mode='same'), arr=rc, axis=0)"
   ]
  },
  {
   "cell_type": "code",
   "execution_count": null,
   "metadata": {},
   "outputs": [],
   "source": [
    "plt.imshow(syn, cmap='Greys', aspect=0.4)\n",
    "plt.colorbar(shrink=0.8)\n",
    "plt.show()"
   ]
  },
  {
   "cell_type": "markdown",
   "metadata": {},
   "source": [
    "Notice how, if we formed a stacked volume from, say, 25 degrees of offset, the response would be completely different from the zero-offset response:\n",
    "\n",
    "I'll plot them vertically to be consistent with the other figure:"
   ]
  },
  {
   "cell_type": "code",
   "execution_count": null,
   "metadata": {},
   "outputs": [],
   "source": [
    "y = np.arange(100)\n",
    "plt.figure(figsize=(4, 8))\n",
    "plt.plot(syn[:, 0], y, 'r', lw=2)  # Zero offset\n",
    "plt.plot(np.mean(syn[:, 0:25], axis=1), y)\n",
    "plt.xlim(-0.015, 0.015)\n",
    "plt.show()"
   ]
  },
  {
   "cell_type": "markdown",
   "metadata": {},
   "source": [
    "<hr />\n",
    "\n",
    "<div>\n",
    "<img src=\"https://avatars1.githubusercontent.com/u/1692321?s=50\"><p style=\"text-align:center\">© Agile Geoscience 2016</p>\n",
    "</div>"
   ]
  },
  {
   "cell_type": "code",
   "execution_count": null,
   "metadata": {},
   "outputs": [],
   "source": []
  }
 ],
 "metadata": {
  "anaconda-cloud": {},
  "celltoolbar": "Tags",
  "kernelspec": {
   "display_name": "Python 3 (ipykernel)",
   "language": "python",
   "name": "python3"
  },
  "language_info": {
   "codemirror_mode": {
    "name": "ipython",
    "version": 3
   },
   "file_extension": ".py",
   "mimetype": "text/x-python",
   "name": "python",
   "nbconvert_exporter": "python",
   "pygments_lexer": "ipython3",
   "version": "3.9.6"
  }
 },
 "nbformat": 4,
 "nbformat_minor": 1
}
