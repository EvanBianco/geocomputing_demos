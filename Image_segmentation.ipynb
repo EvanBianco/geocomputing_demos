{
 "cells": [
  {
   "cell_type": "markdown",
   "metadata": {},
   "source": [
    "## Image segmentation\n",
    "\n",
    "Make sure you look at the [Read_and_process_images.ipynb](Read_and_process_images.ipynb) notebook first."
   ]
  },
  {
   "cell_type": "code",
   "execution_count": null,
   "metadata": {},
   "outputs": [],
   "source": [
    "import numpy as np\n",
    "import matplotlib.pyplot as plt"
   ]
  },
  {
   "cell_type": "markdown",
   "metadata": {},
   "source": [
    "## `scikit-image` — Image segmentation\n",
    "\n",
    "We'll load the luminance data we made before.\n",
    "\n",
    "**If this throws an error, you probably need to go back to that notebook to create the file.**"
   ]
  },
  {
   "cell_type": "code",
   "execution_count": null,
   "metadata": {},
   "outputs": [],
   "source": [
    "y = np.load(\"data/quartz-arenite_LUMINANCE_Michael-C-Rygel_CC-BY-SA.npy\")"
   ]
  },
  {
   "cell_type": "code",
   "execution_count": null,
   "metadata": {},
   "outputs": [],
   "source": [
    "plt.imshow(y)\n",
    "plt.colorbar()"
   ]
  },
  {
   "cell_type": "code",
   "execution_count": null,
   "metadata": {},
   "outputs": [],
   "source": [
    "_ = plt.hist(y.ravel(), bins=128)"
   ]
  },
  {
   "cell_type": "code",
   "execution_count": null,
   "metadata": {},
   "outputs": [],
   "source": [
    "from skimage.filters import try_all_threshold\n",
    "\n",
    "fig, ax = try_all_threshold(y, figsize=(10, 16), verbose=False)\n",
    "plt.show()"
   ]
  },
  {
   "cell_type": "code",
   "execution_count": null,
   "metadata": {},
   "outputs": [],
   "source": [
    "from skimage.filters import threshold_otsu\n",
    "\n",
    "thresh = threshold_otsu(y)\n",
    "binary = y > thresh"
   ]
  },
  {
   "cell_type": "code",
   "execution_count": null,
   "metadata": {},
   "outputs": [],
   "source": [
    "# A quick aside.\n",
    "phi = 1 - binary.sum() / binary.size\n",
    "print(f'porosity = {phi:.1%}')"
   ]
  },
  {
   "cell_type": "code",
   "execution_count": null,
   "metadata": {},
   "outputs": [],
   "source": [
    "plt.imshow(binary)"
   ]
  },
  {
   "cell_type": "code",
   "execution_count": null,
   "metadata": {},
   "outputs": [],
   "source": [
    "from skimage.morphology import closing, opening, square\n",
    "binary = closing(binary, square(3))\n",
    "binary = opening(binary, square(3))"
   ]
  },
  {
   "cell_type": "code",
   "execution_count": null,
   "metadata": {},
   "outputs": [],
   "source": [
    "plt.imshow(binary)"
   ]
  },
  {
   "cell_type": "code",
   "execution_count": null,
   "metadata": {},
   "outputs": [],
   "source": [
    "from skimage.morphology import watershed\n",
    "from skimage.feature import peak_local_max\n",
    "import scipy.ndimage\n",
    "\n",
    "distance = scipy.ndimage.distance_transform_edt(binary)\n",
    "local_maxi = peak_local_max(distance, labels=binary, indices=False, footprint=square(7))\n",
    "markers, n = scipy.ndimage.label(local_maxi)\n",
    "labels = watershed(-distance, markers, mask=binary)"
   ]
  },
  {
   "cell_type": "code",
   "execution_count": null,
   "metadata": {},
   "outputs": [],
   "source": [
    "fig, axes = plt.subplots(ncols=3, figsize=(15, 5), sharey=True)\n",
    "\n",
    "axes[0].imshow(binary, cmap='gray', interpolation='nearest')\n",
    "axes[0].set_title('Overlapping objects')\n",
    "axes[1].imshow(-distance, cmap='gray', interpolation='nearest')\n",
    "axes[1].set_title('Distances')\n",
    "axes[2].imshow(labels, cmap=\"prism\", interpolation='nearest')\n",
    "axes[2].set_title('Separated objects')\n",
    "\n",
    "plt.show()"
   ]
  },
  {
   "cell_type": "code",
   "execution_count": null,
   "metadata": {},
   "outputs": [],
   "source": [
    "from skimage.segmentation import mark_boundaries\n",
    "\n",
    "plt.figure(figsize=(12, 6))\n",
    "plt.imshow(mark_boundaries(y, labels))"
   ]
  },
  {
   "cell_type": "markdown",
   "metadata": {},
   "source": [
    "The labeller returned the number of segments: "
   ]
  },
  {
   "cell_type": "code",
   "execution_count": null,
   "metadata": {},
   "outputs": [],
   "source": [
    "n"
   ]
  },
  {
   "cell_type": "markdown",
   "metadata": {
    "tags": [
     "exercise"
    ]
   },
   "source": [
    "### Exercise\n",
    "\n",
    "- Try changing some of the parameters (the thresholding algorithm, the binary operations, the footprint), to see if you can improve the segmentation.\n",
    "- Find another photograph to work on; see if you can segment it."
   ]
  },
  {
   "cell_type": "markdown",
   "metadata": {},
   "source": [
    "## Automatic methods\n",
    "\n",
    "A quick look at some of `skimage`'s automated segmenters, from [this blog post](http://melvincabatuan.github.io/SLIC-Superpixels/). "
   ]
  },
  {
   "cell_type": "code",
   "execution_count": null,
   "metadata": {},
   "outputs": [],
   "source": [
    "import skimage.io\n",
    "\n",
    "img = skimage.io.imread(\"data/quartz-arenite_CROPPED_Michael-C-Rygel_CC-BY-SA.png\")"
   ]
  },
  {
   "cell_type": "code",
   "execution_count": null,
   "metadata": {},
   "outputs": [],
   "source": [
    "from skimage.segmentation import felzenszwalb, slic, quickshift\n",
    "\n",
    "segments_fz = felzenszwalb(img, scale=100, sigma=2, min_size=500)\n",
    "segments_slic = slic(img, n_segments=150, compactness=10, sigma=1)\n",
    "segments_quick = quickshift(img, kernel_size=5, max_dist=50, ratio=0.25)\n",
    "\n",
    "fig, ax = plt.subplots(1, 3)\n",
    "fig.set_size_inches(16, 8, forward=True)\n",
    "fig.subplots_adjust(0.05, 0.05, 0.95, 0.95, 0.05, 0.05)\n",
    "\n",
    "ax[0].imshow(mark_boundaries(img, segments_fz))\n",
    "ax[0].set_title(\"Felzenszwalbs's method: {} segments\".format(len(np.unique(segments_fz))))\n",
    "ax[1].imshow(mark_boundaries(img, segments_slic))\n",
    "ax[1].set_title(\"SLIC: {} segments\".format(len(np.unique(segments_slic))))\n",
    "ax[2].imshow(mark_boundaries(img, segments_quick))\n",
    "ax[2].set_title(\"Quickshift: {} segments\".format(len(np.unique(segments_quick))))\n",
    "for a in ax:\n",
    "    a.set_xticks(())\n",
    "    a.set_yticks(())\n",
    "plt.show()\n"
   ]
  },
  {
   "cell_type": "code",
   "execution_count": null,
   "metadata": {},
   "outputs": [],
   "source": []
  }
 ],
 "metadata": {
  "kernelspec": {
   "display_name": "geocomp",
   "language": "python",
   "name": "geocomp"
  },
  "language_info": {
   "codemirror_mode": {
    "name": "ipython",
    "version": 3
   },
   "file_extension": ".py",
   "mimetype": "text/x-python",
   "name": "python",
   "nbconvert_exporter": "python",
   "pygments_lexer": "ipython3",
   "version": "3.8.6"
  }
 },
 "nbformat": 4,
 "nbformat_minor": 2
}
