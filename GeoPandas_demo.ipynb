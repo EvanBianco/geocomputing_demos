{
 "cells": [
  {
   "cell_type": "markdown",
   "metadata": {},
   "source": [
    "# `GeoPandas` demo\n",
    "\n",
    "[GeoPandas](http://geopandas.org/) is an extension of Pandas. A `GeoDataFrame` is just like a normal DataFrame, except each record has a [`shapely`](https://shapely.readthedocs.io/en/stable/manual.html) geometry attached. This geometry can be a point, a line, or a polygon.\n",
    "\n",
    "GeoDataFrames can easily be saved as SHP or GeoJSON."
   ]
  },
  {
   "cell_type": "code",
   "execution_count": 1,
   "metadata": {},
   "outputs": [],
   "source": [
    "import geopandas as gp"
   ]
  },
  {
   "cell_type": "markdown",
   "metadata": {},
   "source": [
    "## Read a shapefile\n",
    "\n",
    "This shapefile was written by QGIS."
   ]
  },
  {
   "cell_type": "code",
   "execution_count": 3,
   "metadata": {},
   "outputs": [],
   "source": [
    "df = gp.read_file(\"../data/offshore_wells_2011_UTM20_NAD83.shp\")"
   ]
  },
  {
   "cell_type": "code",
   "execution_count": 4,
   "metadata": {},
   "outputs": [
    {
     "data": {
      "text/html": [
       "<div>\n",
       "<style scoped>\n",
       "    .dataframe tbody tr th:only-of-type {\n",
       "        vertical-align: middle;\n",
       "    }\n",
       "\n",
       "    .dataframe tbody tr th {\n",
       "        vertical-align: top;\n",
       "    }\n",
       "\n",
       "    .dataframe thead th {\n",
       "        text-align: right;\n",
       "    }\n",
       "</style>\n",
       "<table border=\"1\" class=\"dataframe\">\n",
       "  <thead>\n",
       "    <tr style=\"text-align: right;\">\n",
       "      <th></th>\n",
       "      <th>Company</th>\n",
       "      <th>D__</th>\n",
       "      <th>Drilling_U</th>\n",
       "      <th>RT_Elevati</th>\n",
       "      <th>Spud_Date</th>\n",
       "      <th>Total_De_1</th>\n",
       "      <th>Total_Dept</th>\n",
       "      <th>Water_Dept</th>\n",
       "      <th>Well_Nam_1</th>\n",
       "      <th>Well_Name</th>\n",
       "      <th>Well_No_</th>\n",
       "      <th>Well_Symb</th>\n",
       "      <th>Well_Termi</th>\n",
       "      <th>Well_Type</th>\n",
       "      <th>seafl_twt_</th>\n",
       "      <th>geometry</th>\n",
       "    </tr>\n",
       "  </thead>\n",
       "  <tbody>\n",
       "    <tr>\n",
       "      <th>0</th>\n",
       "      <td>Mobil et al</td>\n",
       "      <td>1.0</td>\n",
       "      <td>Bawden Rig 18</td>\n",
       "      <td>8.2</td>\n",
       "      <td>1967-06-07</td>\n",
       "      <td>15106.0</td>\n",
       "      <td>4604.0</td>\n",
       "      <td>3.9</td>\n",
       "      <td>C-67</td>\n",
       "      <td>Sable Island</td>\n",
       "      <td>1.0</td>\n",
       "      <td>Plugged dry hole</td>\n",
       "      <td>1968-01-02</td>\n",
       "      <td>Exploratory</td>\n",
       "      <td>5.252525</td>\n",
       "      <td>POINT (747510.437 4869250.819)</td>\n",
       "    </tr>\n",
       "    <tr>\n",
       "      <th>1</th>\n",
       "      <td>Shell</td>\n",
       "      <td>2.0</td>\n",
       "      <td>Sedneth 1</td>\n",
       "      <td>25.9</td>\n",
       "      <td>1969-09-01</td>\n",
       "      <td>13085.0</td>\n",
       "      <td>3988.0</td>\n",
       "      <td>57.9</td>\n",
       "      <td>E-84</td>\n",
       "      <td>Onondaga</td>\n",
       "      <td>2.0</td>\n",
       "      <td>Plugged gas well</td>\n",
       "      <td>1969-11-11</td>\n",
       "      <td>Exploratory</td>\n",
       "      <td>77.979798</td>\n",
       "      <td>POINT (723875.297 4844664.070)</td>\n",
       "    </tr>\n",
       "    <tr>\n",
       "      <th>2</th>\n",
       "      <td>Shell</td>\n",
       "      <td>3.0</td>\n",
       "      <td>Sedneth 1</td>\n",
       "      <td>25.9</td>\n",
       "      <td>1969-11-16</td>\n",
       "      <td>13516.0</td>\n",
       "      <td>4120.0</td>\n",
       "      <td>82.3</td>\n",
       "      <td>O-25</td>\n",
       "      <td>Oneida</td>\n",
       "      <td>3.0</td>\n",
       "      <td>Plugged dry hole</td>\n",
       "      <td>1970-02-10</td>\n",
       "      <td>Exploratory</td>\n",
       "      <td>110.841751</td>\n",
       "      <td>POINT (616945.851 4789511.343)</td>\n",
       "    </tr>\n",
       "    <tr>\n",
       "      <th>3</th>\n",
       "      <td>Shell</td>\n",
       "      <td>4.0</td>\n",
       "      <td>Sedneth 1</td>\n",
       "      <td>26.0</td>\n",
       "      <td>1970-02-16</td>\n",
       "      <td>7235.0</td>\n",
       "      <td>2205.0</td>\n",
       "      <td>95.1</td>\n",
       "      <td>N-30</td>\n",
       "      <td>Naskapi</td>\n",
       "      <td>4.0</td>\n",
       "      <td>Plugged dry hole</td>\n",
       "      <td>1970-03-19</td>\n",
       "      <td>Exploratory</td>\n",
       "      <td>128.080808</td>\n",
       "      <td>POINT (535101.418 4816032.927)</td>\n",
       "    </tr>\n",
       "    <tr>\n",
       "      <th>4</th>\n",
       "      <td>Shell</td>\n",
       "      <td>5.0</td>\n",
       "      <td>Sedco H</td>\n",
       "      <td>31.4</td>\n",
       "      <td>1970-05-03</td>\n",
       "      <td>6975.0</td>\n",
       "      <td>2126.0</td>\n",
       "      <td>117.0</td>\n",
       "      <td>B-93</td>\n",
       "      <td>Mohawk</td>\n",
       "      <td>5.0</td>\n",
       "      <td>Plugged dry hole</td>\n",
       "      <td>1970-05-23</td>\n",
       "      <td>Exploratory</td>\n",
       "      <td>157.575758</td>\n",
       "      <td>POINT (358242.752 4729291.711)</td>\n",
       "    </tr>\n",
       "  </tbody>\n",
       "</table>\n",
       "</div>"
      ],
      "text/plain": [
       "       Company  D__     Drilling_U  RT_Elevati   Spud_Date  Total_De_1  \\\n",
       "0  Mobil et al  1.0  Bawden Rig 18         8.2  1967-06-07     15106.0   \n",
       "1        Shell  2.0      Sedneth 1        25.9  1969-09-01     13085.0   \n",
       "2        Shell  3.0      Sedneth 1        25.9  1969-11-16     13516.0   \n",
       "3        Shell  4.0      Sedneth 1        26.0  1970-02-16      7235.0   \n",
       "4        Shell  5.0        Sedco H        31.4  1970-05-03      6975.0   \n",
       "\n",
       "   Total_Dept  Water_Dept Well_Nam_1     Well_Name  Well_No_  \\\n",
       "0      4604.0         3.9       C-67  Sable Island       1.0   \n",
       "1      3988.0        57.9       E-84      Onondaga       2.0   \n",
       "2      4120.0        82.3       O-25        Oneida       3.0   \n",
       "3      2205.0        95.1       N-30       Naskapi       4.0   \n",
       "4      2126.0       117.0       B-93        Mohawk       5.0   \n",
       "\n",
       "          Well_Symb  Well_Termi    Well_Type  seafl_twt_  \\\n",
       "0  Plugged dry hole  1968-01-02  Exploratory    5.252525   \n",
       "1  Plugged gas well  1969-11-11  Exploratory   77.979798   \n",
       "2  Plugged dry hole  1970-02-10  Exploratory  110.841751   \n",
       "3  Plugged dry hole  1970-03-19  Exploratory  128.080808   \n",
       "4  Plugged dry hole  1970-05-23  Exploratory  157.575758   \n",
       "\n",
       "                         geometry  \n",
       "0  POINT (747510.437 4869250.819)  \n",
       "1  POINT (723875.297 4844664.070)  \n",
       "2  POINT (616945.851 4789511.343)  \n",
       "3  POINT (535101.418 4816032.927)  \n",
       "4  POINT (358242.752 4729291.711)  "
      ]
     },
     "execution_count": 4,
     "metadata": {},
     "output_type": "execute_result"
    }
   ],
   "source": [
    "df.head()"
   ]
  },
  {
   "cell_type": "code",
   "execution_count": 5,
   "metadata": {},
   "outputs": [
    {
     "data": {
      "text/plain": [
       "<matplotlib.axes._subplots.AxesSubplot at 0x7ff9995e9390>"
      ]
     },
     "execution_count": 5,
     "metadata": {},
     "output_type": "execute_result"
    },
    {
     "data": {
      "image/png": "[encoded data removed]",
      "text/plain": [
       "<Figure size 432x288 with 1 Axes>"
      ]
     },
     "metadata": {
      "needs_background": "light"
     },
     "output_type": "display_data"
    }
   ],
   "source": [
    "df.plot()"
   ]
  },
  {
   "cell_type": "markdown",
   "metadata": {},
   "source": [
    "The CRS is stored as [an EPSG code](https://spatialreference.org/ref/epsg/)."
   ]
  },
  {
   "cell_type": "code",
   "execution_count": 6,
   "metadata": {},
   "outputs": [
    {
     "data": {
      "text/plain": [
       "{'init': 'epsg:26920'}"
      ]
     },
     "execution_count": 6,
     "metadata": {},
     "output_type": "execute_result"
    }
   ],
   "source": [
    "df.crs"
   ]
  },
  {
   "cell_type": "markdown",
   "metadata": {},
   "source": [
    "## Define a polygon"
   ]
  },
  {
   "cell_type": "code",
   "execution_count": 7,
   "metadata": {},
   "outputs": [],
   "source": [
    "from shapely.geometry import Polygon\n",
    "\n",
    "poly = Polygon([\n",
    "    [700_000, 4_800_000],\n",
    "    [800_000, 4_800_000],\n",
    "    [800_000, 4_950_000],\n",
    "    [700_000, 4_950_000],\n",
    "])"
   ]
  },
  {
   "cell_type": "code",
   "execution_count": 8,
   "metadata": {},
   "outputs": [
    {
     "data": {
      "image/svg+xml": [
       "<svg xmlns=\"http://www.w3.org/2000/svg\" xmlns:xlink=\"http://www.w3.org/1999/xlink\" width=\"300\" height=\"300\" viewBox=\"694000.0 4794000.0 112000.0 162000.0\" preserveAspectRatio=\"xMinYMin meet\"><g transform=\"matrix(1,0,0,-1,0,9750000.0)\"><path fill-rule=\"evenodd\" fill=\"#66cc99\" stroke=\"#555555\" stroke-width=\"1080.0\" opacity=\"0.6\" d=\"M 700000.0,4800000.0 L 800000.0,4800000.0 L 800000.0,4950000.0 L 700000.0,4950000.0 L 700000.0,4800000.0 z\" /></g></svg>"
      ],
      "text/plain": [
       "<shapely.geometry.polygon.Polygon at 0x7ff9994bfa90>"
      ]
     },
     "execution_count": 8,
     "metadata": {},
     "output_type": "execute_result"
    }
   ],
   "source": [
    "poly"
   ]
  },
  {
   "cell_type": "code",
   "execution_count": 9,
   "metadata": {},
   "outputs": [],
   "source": [
    "dp = gp.GeoDataFrame(geometry=[poly], crs=df.crs)"
   ]
  },
  {
   "cell_type": "code",
   "execution_count": 10,
   "metadata": {},
   "outputs": [
    {
     "data": {
      "text/html": [
       "<div>\n",
       "<style scoped>\n",
       "    .dataframe tbody tr th:only-of-type {\n",
       "        vertical-align: middle;\n",
       "    }\n",
       "\n",
       "    .dataframe tbody tr th {\n",
       "        vertical-align: top;\n",
       "    }\n",
       "\n",
       "    .dataframe thead th {\n",
       "        text-align: right;\n",
       "    }\n",
       "</style>\n",
       "<table border=\"1\" class=\"dataframe\">\n",
       "  <thead>\n",
       "    <tr style=\"text-align: right;\">\n",
       "      <th></th>\n",
       "      <th>geometry</th>\n",
       "    </tr>\n",
       "  </thead>\n",
       "  <tbody>\n",
       "    <tr>\n",
       "      <th>0</th>\n",
       "      <td>POLYGON ((700000.000 4800000.000, 800000.000 4...</td>\n",
       "    </tr>\n",
       "  </tbody>\n",
       "</table>\n",
       "</div>"
      ],
      "text/plain": [
       "                                            geometry\n",
       "0  POLYGON ((700000.000 4800000.000, 800000.000 4..."
      ]
     },
     "execution_count": 10,
     "metadata": {},
     "output_type": "execute_result"
    }
   ],
   "source": [
    "dp"
   ]
  },
  {
   "cell_type": "code",
   "execution_count": 12,
   "metadata": {},
   "outputs": [
    {
     "data": {
      "image/png": "[encoded data removed]",
      "text/plain": [
       "<Figure size 432x288 with 1 Axes>"
      ]
     },
     "metadata": {
      "needs_background": "light"
     },
     "output_type": "display_data"
    }
   ],
   "source": [
    "import matplotlib.pyplot as plt\n",
    "\n",
    "fig, ax = plt.subplots()\n",
    "\n",
    "ax = dp.plot(ax=ax, color='r')\n",
    "ax = df.plot(ax=ax)"
   ]
  },
  {
   "cell_type": "markdown",
   "metadata": {},
   "source": [
    "## Intersect wells and polygon\n",
    "\n",
    "We can intersect the well dataframe `df` with the Shapely polygon:"
   ]
  },
  {
   "cell_type": "code",
   "execution_count": 13,
   "metadata": {},
   "outputs": [
    {
     "data": {
      "text/plain": [
       "<matplotlib.axes._subplots.AxesSubplot at 0x7ff995bf47f0>"
      ]
     },
     "execution_count": 13,
     "metadata": {},
     "output_type": "execute_result"
    },
    {
     "data": {
      "image/png": "[encoded data removed]",
      "text/plain": [
       "<Figure size 432x288 with 1 Axes>"
      ]
     },
     "metadata": {
      "needs_background": "light"
     },
     "output_type": "display_data"
    }
   ],
   "source": [
    "dg = df[df.intersects(poly)]\n",
    "\n",
    "dg.plot()"
   ]
  },
  {
   "cell_type": "markdown",
   "metadata": {},
   "source": [
    "## Write a shapefile"
   ]
  },
  {
   "cell_type": "code",
   "execution_count": 14,
   "metadata": {},
   "outputs": [],
   "source": [
    "dg.to_file('../../data/Wells_in_polygon.shp')  # Can also save as GeoJSON"
   ]
  }
 ],
 "metadata": {
  "kernelspec": {
   "display_name": "geocomp",
   "language": "python",
   "name": "geocomp"
  },
  "language_info": {
   "codemirror_mode": {
    "name": "ipython",
    "version": 3
   },
   "file_extension": ".py",
   "mimetype": "text/x-python",
   "name": "python",
   "nbconvert_exporter": "python",
   "pygments_lexer": "ipython3",
   "version": "3.8.5"
  }
 },
 "nbformat": 4,
 "nbformat_minor": 2
}
