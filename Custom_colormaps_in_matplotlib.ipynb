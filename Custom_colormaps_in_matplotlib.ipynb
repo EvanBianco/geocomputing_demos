{
 "cells": [
  {
   "cell_type": "markdown",
   "metadata": {},
   "source": [
    "# Custom colormaps\n",
    "\n",
    "Let's look at a matplotlib colormap:"
   ]
  },
  {
   "cell_type": "code",
   "execution_count": null,
   "metadata": {},
   "outputs": [],
   "source": [
    "import numpy as np\n",
    "import matplotlib as mpl\n",
    "import matplotlib.pyplot as plt\n",
    "from matplotlib import cm\n",
    "from matplotlib.colors import ListedColormap, LinearSegmentedColormap\n",
    "from collections import OrderedDict\n",
    "\n",
    "viridis = cm.get_cmap('viridis', 12)\n",
    "viridis"
   ]
  },
  {
   "cell_type": "markdown",
   "metadata": {},
   "source": [
    "This is a `ListedColormap`. We can get an RGB color for a particular value &mdash; based on the range (0, 1):"
   ]
  },
  {
   "cell_type": "code",
   "execution_count": null,
   "metadata": {},
   "outputs": [],
   "source": [
    "viridis(0.56)"
   ]
  },
  {
   "cell_type": "markdown",
   "metadata": {},
   "source": [
    "Or look at all the colours:"
   ]
  },
  {
   "cell_type": "code",
   "execution_count": null,
   "metadata": {},
   "outputs": [],
   "source": [
    "viridis.colors"
   ]
  },
  {
   "cell_type": "markdown",
   "metadata": {},
   "source": [
    "## Modify viridis"
   ]
  },
  {
   "cell_type": "code",
   "execution_count": null,
   "metadata": {},
   "outputs": [],
   "source": [
    "viridis = cm.get_cmap('viridis', 256)\n",
    "\n",
    "newcolors = viridis(np.linspace(0, 1, 256))\n",
    "\n",
    "pink = np.array([248/256, 24/256, 148/256, 1])\n",
    "newcolors[:25, :] = pink\n",
    "newcmp = ListedColormap(newcolors)\n",
    "\n",
    "cms = [viridis, newcmp]\n",
    "\n",
    "data = np.random.randn(30, 30)\n",
    "\n",
    "fig, axs = plt.subplots(1, 2, figsize=(8, 3), constrained_layout=True)\n",
    "for ax, cmap in zip(axs, cms):\n",
    "    psm = ax.pcolormesh(data, cmap=cmap, rasterized=True, vmin=-4, vmax=4)\n",
    "    fig.colorbar(psm, ax=ax)\n",
    "plt.show()"
   ]
  },
  {
   "cell_type": "markdown",
   "metadata": {},
   "source": [
    "## Make a new ramp as `LinearSegmentedColormap`"
   ]
  },
  {
   "cell_type": "code",
   "execution_count": null,
   "metadata": {},
   "outputs": [],
   "source": [
    "# Channel:  RED    GREEN     BLUE  ALPHA\n",
    "\n",
    "red =   [100/256,   0/256,   0/256, 1.0]\n",
    "white = [256/256, 256/256, 256/256, 1.0]\n",
    "blue =  [  0/256,  50/256, 100/256, 1.0]\n",
    "\n",
    "newcmp = LinearSegmentedColormap.from_list(\"foo\", [red, white, blue])"
   ]
  },
  {
   "cell_type": "code",
   "execution_count": null,
   "metadata": {},
   "outputs": [],
   "source": [
    "cms = [viridis, newcmp]\n",
    "\n",
    "data = np.random.randn(30, 30)\n",
    "\n",
    "fig, axs = plt.subplots(1, 2, figsize=(8, 3), constrained_layout=True)\n",
    "for ax, cmap in zip(axs, cms):\n",
    "    psm = ax.pcolormesh(data, cmap=cmap, rasterized=True, vmin=-4, vmax=4)\n",
    "    fig.colorbar(psm, ax=ax)\n",
    "plt.show()"
   ]
  },
  {
   "cell_type": "markdown",
   "metadata": {},
   "source": [
    "Look up colours in a `LinearSegmentedColormap`..."
   ]
  },
  {
   "cell_type": "code",
   "execution_count": null,
   "metadata": {},
   "outputs": [],
   "source": [
    "newcmp(0.5)"
   ]
  },
  {
   "cell_type": "markdown",
   "metadata": {},
   "source": [
    "## Make a new ramp as `ListedColormap`"
   ]
  },
  {
   "cell_type": "code",
   "execution_count": null,
   "metadata": {},
   "outputs": [],
   "source": [
    "# Channel:  RED    GREEN     BLUE  ALPHA\n",
    "\n",
    "red =   [100/256,   0/256,   0/256, 1.0]\n",
    "white = [256/256, 256/256, 256/256, 1.0]\n",
    "blue =  [  0/256,  50/256, 100/256, 1.0]\n",
    "\n",
    "newcmp = LinearSegmentedColormap.from_list(\"foo\", [red, white, blue])\n",
    "\n",
    "newlst = ListedColormap(newcmp(np.linspace(0, 1, 16)))"
   ]
  },
  {
   "cell_type": "code",
   "execution_count": null,
   "metadata": {},
   "outputs": [],
   "source": [
    "newlst(0.5)"
   ]
  },
  {
   "cell_type": "markdown",
   "metadata": {},
   "source": [
    "We can also get at the colours this way:"
   ]
  },
  {
   "cell_type": "code",
   "execution_count": null,
   "metadata": {},
   "outputs": [],
   "source": [
    "newlst.colors"
   ]
  },
  {
   "cell_type": "code",
   "execution_count": null,
   "metadata": {},
   "outputs": [],
   "source": [
    "cms = [viridis, newlst]\n",
    "\n",
    "data = np.random.randn(30, 30)\n",
    "\n",
    "fig, axs = plt.subplots(1, 2, figsize=(8, 3), constrained_layout=True)\n",
    "for ax, cmap in zip(axs, cms):\n",
    "    psm = ax.pcolormesh(data, cmap=cmap, rasterized=True, vmin=-4, vmax=4)\n",
    "    fig.colorbar(psm, ax=ax)\n",
    "plt.show()"
   ]
  },
  {
   "cell_type": "markdown",
   "metadata": {},
   "source": [
    "## Extract colours from an image\n",
    "\n",
    "First, we'll need an image of the colourbar we want. It doesn't matter if it's horizontal or vertical (although you'll need to know which later."
   ]
  },
  {
   "cell_type": "code",
   "execution_count": null,
   "metadata": {},
   "outputs": [],
   "source": [
    "from PIL import Image\n",
    "\n",
    "img = Image.open('data/arcgis_cmap_horizontal.png')\n",
    "img"
   ]
  },
  {
   "cell_type": "markdown",
   "metadata": {},
   "source": [
    "Now we can get this as a NumPy array."
   ]
  },
  {
   "cell_type": "code",
   "execution_count": null,
   "metadata": {},
   "outputs": [],
   "source": [
    "arr = np.asarray(img)[:, :, :3] / 255  # Remove alpha channel and rescale\n",
    "\n",
    "plt.imshow(arr)"
   ]
  },
  {
   "cell_type": "code",
   "execution_count": null,
   "metadata": {},
   "outputs": [],
   "source": [
    "arr.shape"
   ]
  },
  {
   "cell_type": "markdown",
   "metadata": {},
   "source": [
    "Now we want to extract colours from here. It's 712 pixels long; the easiest thing to do might be to just take every 3rd pixel."
   ]
  },
  {
   "cell_type": "code",
   "execution_count": null,
   "metadata": {},
   "outputs": [],
   "source": [
    "colours = arr[0, ::3]  # First row, every third column."
   ]
  },
  {
   "cell_type": "code",
   "execution_count": null,
   "metadata": {},
   "outputs": [],
   "source": [
    "arccmap = LinearSegmentedColormap.from_list(\"arccmap\", colours)"
   ]
  },
  {
   "cell_type": "code",
   "execution_count": null,
   "metadata": {
    "scrolled": true
   },
   "outputs": [],
   "source": [
    "data = np.random.uniform(0, 10, (20, 20))\n",
    "\n",
    "fig, ax = plt.subplots(figsize=(4.6, 4), constrained_layout=True)\n",
    "psm = ax.imshow(data, cmap=arccmap)\n",
    "fig.colorbar(psm, ax=ax)\n",
    "plt.show()"
   ]
  },
  {
   "cell_type": "code",
   "execution_count": null,
   "metadata": {},
   "outputs": [],
   "source": []
  }
 ],
 "metadata": {
  "kernelspec": {
   "display_name": "geocomp",
   "language": "python",
   "name": "geocomp"
  },
  "language_info": {
   "codemirror_mode": {
    "name": "ipython",
    "version": 3
   },
   "file_extension": ".py",
   "mimetype": "text/x-python",
   "name": "python",
   "nbconvert_exporter": "python",
   "pygments_lexer": "ipython3",
   "version": "3.8.6"
  }
 },
 "nbformat": 4,
 "nbformat_minor": 2
}
