{
 "cells": [
  {
   "cell_type": "markdown",
   "metadata": {},
   "source": [
    "# An animation demo\n",
    "\n",
    "Matplolib gives us two ways to make animations:\n",
    "- [FuncAnimation](https://matplotlib.org/api/_as_gen/matplotlib.animation.FuncAnimation.html#matplotlib.animation.FuncAnimation) which makes an animation by repeatedly calling a function func, and\n",
    "- [ArtistAnimation](https://matplotlib.org/api/_as_gen/matplotlib.animation.ArtistAnimation.html#matplotlib.animation.ArtistAnimation) which is an animation using a fixed set of Artist objects.\n",
    "\n",
    "In this notebook, we look at both `FuncAnimation` and `ArtistAnimation` as examples.\n",
    "\n",
    "**Nota Bene** these examples need `%matplolib notebook` or `%matplotlib nbagg` enabled _instead of_ `%matplotlib inline` in order to render in the notebook."
   ]
  },
  {
   "cell_type": "code",
   "execution_count": null,
   "metadata": {},
   "outputs": [],
   "source": [
    "# set the matplolib backend to use\n",
    "%matplotlib notebook\n",
    "#%matplotlib nbagg\n",
    "# imports\n",
    "import numpy as np\n",
    "import matplotlib.pyplot as plt\n",
    "from matplotlib.animation import FuncAnimation, ArtistAnimation\n",
    "import math"
   ]
  },
  {
   "cell_type": "markdown",
   "metadata": {},
   "source": [
    "## Example from the Documentation\n",
    "\n",
    "Here is a [link to the documentation](https://matplotlib.org/api/_as_gen/matplotlib.animation.FuncAnimation.html#matplotlib.animation.FuncAnimation) for quick reference.\n",
    "\n",
    "### Rain simulation\n",
    "\n",
    "Modified from source: [Rain simulation](https://matplotlib.org/gallery/animation/rain.html#sphx-glr-gallery-animation-rain-py)\n",
    "\n",
    "Author: Nicolas P. Rougier"
   ]
  },
  {
   "cell_type": "code",
   "execution_count": null,
   "metadata": {
    "scrolled": false
   },
   "outputs": [],
   "source": [
    "# Fixing random state for reproducibility\n",
    "np.random.seed(42)\n",
    "\n",
    "# Create new Figure and an Axes which fills it.\n",
    "fig = plt.figure(figsize=(3, 3))\n",
    "ax = fig.add_axes([0, 0, 1, 1], frameon=False)\n",
    "\n",
    "# Create rain data\n",
    "n_drops = 50\n",
    "rain_drops = np.zeros(n_drops, dtype=[('position', float, 2),\n",
    "                                      ('size',     float, 1),\n",
    "                                      ('growth',   float, 1),\n",
    "                                      ('color',    float, 4)])\n",
    "\n",
    "# Initialize the raindrops in random positions and with\n",
    "# random growth rates.\n",
    "rain_drops['position'] = np.random.uniform(0, 1, (n_drops, 2))\n",
    "rain_drops['growth'] = np.random.uniform(50, 200, n_drops)\n",
    "\n",
    "# Construct the scatter which we will update during animation\n",
    "# as the raindrops develop.\n",
    "scat = ax.scatter(rain_drops['position'][:, 0], rain_drops['position'][:, 1],\n",
    "                  s=rain_drops['size'], lw=0.5, edgecolors=rain_drops['color'],\n",
    "                  facecolors='none')\n",
    "\n",
    "def update(frame_number):\n",
    "    # Get an index which we can use to re-spawn the oldest raindrop.\n",
    "    current_index = frame_number % n_drops\n",
    "\n",
    "    # Make all colors more transparent as time progresses.\n",
    "    rain_drops['color'][:, 3] -= 1.0/len(rain_drops)\n",
    "    rain_drops['color'][:, 3] = np.clip(rain_drops['color'][:, 3], 0, 1)\n",
    "\n",
    "    # Make all circles bigger.\n",
    "    rain_drops['size'] += rain_drops['growth']\n",
    "\n",
    "    # Pick a new position for oldest rain drop, resetting its size,\n",
    "    # color and growth factor.\n",
    "    rain_drops['position'][current_index] = np.random.uniform(0, 1, 2)\n",
    "    rain_drops['size'][current_index] = 5\n",
    "    rain_drops['color'][current_index] = (0, 0, 0, 1)\n",
    "    rain_drops['growth'][current_index] = np.random.uniform(50, 200)\n",
    "\n",
    "    # Update the scatter collection, with the new colors, sizes and positions.\n",
    "    scat.set_edgecolors(rain_drops['color'])\n",
    "    scat.set_sizes(rain_drops['size'])\n",
    "    scat.set_offsets(rain_drops['position'])\n",
    "\n",
    "\n",
    "# Construct the animation, using the update function as the animation director.\n",
    "animation = FuncAnimation(fig, update, interval=10)\n",
    "plt.show()"
   ]
  },
  {
   "cell_type": "markdown",
   "metadata": {},
   "source": [
    "## Deconstructing the code\n",
    "\n",
    "What are the moving parts in the example above?\n",
    "\n",
    "First it should be noted from the [docs](https://matplotlib.org/api/animation_api.html) that:\n",
    ">[...] it is critical to keep a reference to the instance object. The animation is advanced by a timer (typically from the host GUI framework) which the Animation object holds the only reference to. If you do not hold a reference to the Animation object, it (and hence the timers), will be garbage collected which will stop the animation.\n",
    "\n",
    "This is achieved in the _rain simulation_ example by saving the `fig` object which is passed to the `FuncAnimation()` function.\n",
    "\n",
    "In this example, the `FuncAnimation()` function takes three arguments:\n",
    "\n",
    "`animation = FuncAnimation(fig, update, interval=10)`\n",
    "\n",
    "1. `fig` which is the matplotlib figure object\n",
    "2. an `update` function that will be repeatedly called\n",
    "3. a keyword argument `interval` specifiying the delay between frames in milliseconds"
   ]
  },
  {
   "cell_type": "markdown",
   "metadata": {},
   "source": [
    "## An example from scratch\n",
    "\n",
    "We first define a function to get points on the perimeter of a circle:"
   ]
  },
  {
   "cell_type": "code",
   "execution_count": null,
   "metadata": {},
   "outputs": [],
   "source": [
    "def perimeter(radius=1,n_points=36):\n",
    "    \"\"\"for a given radius r, calculate the coordinates of n points on the perimeter of a circle\"\"\"\n",
    "    points = []\n",
    "    for point in range(0,n_points):\n",
    "        x = math.cos(2 * math.pi / n_points * point) * radius\n",
    "        y = math.sin(2 * math.pi / n_points * point) * radius\n",
    "        points.append((x,y))\n",
    "    \n",
    "    return np.array(points)"
   ]
  },
  {
   "cell_type": "markdown",
   "metadata": {},
   "source": [
    "We then build a matplotlib plot (this must be done for the animation to work; the plot must be created once):"
   ]
  },
  {
   "cell_type": "code",
   "execution_count": null,
   "metadata": {},
   "outputs": [],
   "source": [
    "# initialize the data\n",
    "radius, n_points = 1, 12\n",
    "x = perimeter(radius,n_points)[:,0]\n",
    "y = perimeter(radius,n_points)[:,1]\n",
    "\n",
    "# create the figure\n",
    "fig, ax = plt.subplots(figsize=(4,4), ncols=1)\n",
    "\n",
    "# set up the colors\n",
    "alphas = np.linspace(0.1, 1, n_points)\n",
    "rgba_colors = np.zeros((n_points,4))\n",
    "rgba_colors[:, 3] = alphas\n",
    "\n",
    "# create and display the plot\n",
    "ax.scatter(x,y, color=rgba_colors)\n",
    "ax.set_xticks(np.array(range(-10,11,5)) / 10)\n",
    "ax.set_yticks(np.array(range(-10,11,5)) / 10)\n",
    "ax.grid()\n",
    "ax.set_title(f'Perimeter plot')\n",
    "\n",
    "plt.show()"
   ]
  },
  {
   "cell_type": "markdown",
   "metadata": {},
   "source": [
    "Now we have this, we can save this plot initialization into a function:"
   ]
  },
  {
   "cell_type": "code",
   "execution_count": null,
   "metadata": {},
   "outputs": [],
   "source": [
    "def initialize_plot(radius, n_points):\n",
    "    \"\"\"\n",
    "    initialize a matplotlib plot of given radius with\n",
    "    n_points regularly spaced along its perimeter\n",
    "    \"\"\"\n",
    "    # Set plot ticks\n",
    "    ticks = np.array(range(-10,11,5)) / 10\n",
    "\n",
    "    # Create new Figure and Axis\n",
    "    fig, ax = plt.subplots(figsize=(4,4), ncols=1)\n",
    "    ax.set_xticks(ticks)\n",
    "    ax.set_yticks(ticks)\n",
    "    ax.set_title(f'Perimeter plot')\n",
    "    ax.grid()\n",
    "\n",
    "    # Create x, y points\n",
    "    x = perimeter(radius, n_points)[:,0]\n",
    "    y = perimeter(radius, n_points)[:,1]\n",
    "\n",
    "    # Initialize alphas and rgba colors\n",
    "    alphas = np.linspace(0.1, 1, n_points)\n",
    "    rgba_colors = np.zeros((n_points,4))\n",
    "    rgba_colors[:, 3] = alphas\n",
    "\n",
    "    # Construct the scatter which we will update during animation\n",
    "    scat = ax.scatter(x, y, c=rgba_colors)\n",
    "    \n",
    "    return fig, scat"
   ]
  },
  {
   "cell_type": "markdown",
   "metadata": {},
   "source": [
    "It's now time to build the function that will be called repeatedly by `FuncAnimation`, we use `np.roll()` to [_roll_](https://docs.scipy.org/doc/numpy-1.15.1/reference/generated/numpy.roll.html) the alphas array at each time step and use this to set the point sizes too:"
   ]
  },
  {
   "cell_type": "code",
   "execution_count": null,
   "metadata": {},
   "outputs": [],
   "source": [
    "def rotate(frame_number, scat, alphas):\n",
    "    \"\"\"\n",
    "    rotates the alpha linspace, resets the rgba_colors,\n",
    "    sets facecolors and sizes to scat\n",
    "    \n",
    "    returns updated scat\n",
    "    \"\"\"\n",
    "    alphas = np.roll(alphas,frame_number)\n",
    "    rgba_colors[:, 2] = alphas\n",
    "    size = alphas\n",
    "    # Update the scatter collection, with the new colors\n",
    "    scat.set_facecolors(rgba_colors)\n",
    "    scat.set_sizes(alphas * 300)\n",
    "    \n",
    "    return scat"
   ]
  },
  {
   "cell_type": "markdown",
   "metadata": {},
   "source": [
    "We can now call `initialize_plot()` and save it to `(fig, scat)` and then save `FuncAnimation()` to a `name` and pass it `fig`, the `rotate()` function and the requirted `fargs` (see [docs](https://matplotlib.org/api/_as_gen/matplotlib.animation.FuncAnimation.html#matplotlib.animation.FuncAnimation))"
   ]
  },
  {
   "cell_type": "code",
   "execution_count": null,
   "metadata": {},
   "outputs": [],
   "source": [
    "# Initialize the figure\n",
    "fig, scat = initialize_plot(radius=1, n_points=12)\n",
    "\n",
    "# Construct the animation, using the rotate function as the animation director.\n",
    "anim = FuncAnimation(fig, rotate, fargs=[scat, alphas], interval=150, blit=True)\n",
    "plt.show()"
   ]
  },
  {
   "cell_type": "markdown",
   "metadata": {},
   "source": [
    "We can now save this animated plot to a \\*.gif for example:"
   ]
  },
  {
   "cell_type": "code",
   "execution_count": null,
   "metadata": {},
   "outputs": [],
   "source": [
    "anim.save('data/rolling_points.gif', writer='imagemagick', fps=30)"
   ]
  },
  {
   "cell_type": "markdown",
   "metadata": {},
   "source": [
    "## Subsurface examples\n",
    "\n",
    "### An animated Ricker wavelet"
   ]
  },
  {
   "cell_type": "code",
   "execution_count": null,
   "metadata": {},
   "outputs": [],
   "source": [
    "from bruges.filters import ricker"
   ]
  },
  {
   "cell_type": "code",
   "execution_count": null,
   "metadata": {},
   "outputs": [],
   "source": [
    "# intialize the plot\n",
    "fig, ax = plt.subplots(figsize=(8, 4), ncols=1)\n",
    "\n",
    "# initialize the data\n",
    "duration, dt, frequency = 0.128, 0.001, 25\n",
    "freqs_up = np.arange(20,50,1)\n",
    "freqs_down = np.array(sorted(freqs_up, reverse=True))[1:-1]\n",
    "freqs = np.append(freqs_up, freqs_down)\n",
    "\n",
    "# create the ricker wavelet\n",
    "w, t = ricker(duration=duration, dt=dt, f=frequency, return_t=True)\n",
    "\n",
    "# instantiate the line plot\n",
    "line, = ax.plot(t, w)\n",
    "\n",
    "# define the init() function that is passed the FuncAnimation()\n",
    "def init():\n",
    "    line.set_xdata(t)\n",
    "    line.set_ydata(w)\n",
    "    ax.grid()\n",
    "\n",
    "    return line,\n",
    "\n",
    "# define the animate() function that is passed to FuncAnimation()\n",
    "def animate(frame):\n",
    "    frequencies = np.roll(freqs, frame)\n",
    "    frequency = frequencies[0]\n",
    "    \n",
    "    w, t = ricker(duration=duration, dt=dt, f=frequency, return_t=True)\n",
    "\n",
    "    line.set_xdata(t)\n",
    "    line.set_ydata(w)\n",
    "    \n",
    "    ax.set_title(f'Ricker wavelet - frequency={frequency}')\n",
    "    \n",
    "    return line,\n",
    "\n",
    "# Save the FuncAnimation() to an object to ensure persistence\n",
    "rick_ani = FuncAnimation(fig, animate, init_func=init, interval=100, blit=True)\n",
    "\n",
    "plt.show()"
   ]
  },
  {
   "cell_type": "code",
   "execution_count": null,
   "metadata": {},
   "outputs": [],
   "source": [
    "rick_ani.save('data/ricker_frequencies.gif', writer='imagemagick')"
   ]
  },
  {
   "cell_type": "markdown",
   "metadata": {},
   "source": [
    "### Scrolling through a seismic cube\n",
    "\n",
    "We use a different `matplotlib` function to scroll through images. As always, we refer to the [docs here](https://matplotlib.org/2.1.2/gallery/animation/dynamic_image2.html).\n",
    "\n",
    "Here we create a `plt.figure()` object, then load our data, and append the images to a list that will be passed to the `ArtistAnimation()` function."
   ]
  },
  {
   "cell_type": "code",
   "execution_count": null,
   "metadata": {},
   "outputs": [],
   "source": [
    "# initialize a matplotlib figure\n",
    "fig = plt.figure(figsize=(9,6))\n",
    "\n",
    "# load the data\n",
    "vol = np.load('data/Penobscot_0-1000ms.npy')\n",
    "ma = np.percentile(vol, 99.0)\n",
    "inline_range = np.arange(0, 601, 1)\n",
    "\n",
    "\"\"\"\n",
    "From the documentation:\n",
    "ims is a list of lists, each row is a list of artists to draw in the\n",
    "current frame; here we are just animating one artist, the image, in\n",
    "each frame\n",
    "\"\"\"\n",
    "ims = []\n",
    "\n",
    "# loop through all images and append to a list\n",
    "for i in inline_range[::2]:\n",
    "    plt.title(f'Penobscot')\n",
    "    im = plt.imshow(vol[inline_range[i],:,:].T, aspect=1.0, vmin=-ma, vmax=ma, cmap='Greys', animated=True)\n",
    "    ims.append([im])\n",
    "\n",
    "# save the ArtistAnimation to an object to ensure persistence\n",
    "seis_anim = ArtistAnimation(fig, ims, interval=10, blit=True)\n",
    "\n",
    "plt.show()\n"
   ]
  },
  {
   "cell_type": "markdown",
   "metadata": {},
   "source": [
    "#### Saving the animation\n",
    "\n",
    "Saving the animation to a *.gif will work, but the *.mp4 is a lot smoother for such a large file."
   ]
  },
  {
   "cell_type": "code",
   "execution_count": null,
   "metadata": {},
   "outputs": [],
   "source": [
    "seis_anim.save('data/penobscot_scroller.gif', writer='imagemagick')"
   ]
  },
  {
   "cell_type": "code",
   "execution_count": null,
   "metadata": {},
   "outputs": [],
   "source": [
    "seis_anim.save('data/penobscot_scroller.mp4')"
   ]
  },
  {
   "cell_type": "markdown",
   "metadata": {},
   "source": [
    "### An SEG tutorial that makes a similar animation\n",
    "\n",
    "For further examples in geophysics, it is worth following [this SEG tutorial](https://github.com/seg/tutorials-2017/blob/master/1712_FWI_forward_modeling/notebooks/manuscript.ipynb) that was published in 2017.\n",
    "\n",
    "_nota bene_ this notebook depends on `devito`, [see the devito project page](https://www.devitoproject.org/) and running `devito` on Windows machines is currently not possible, or at least a big challenge."
   ]
  },
  {
   "cell_type": "markdown",
   "metadata": {},
   "source": [
    "<hr />\n",
    "\n",
    "<div>\n",
    "<img src=\"https://avatars1.githubusercontent.com/u/1692321?s=50\"><p style=\"text-align:center\">© Agile Geoscience 2019</p>\n",
    "</div>"
   ]
  }
 ],
 "metadata": {
  "kernelspec": {
   "display_name": "geocomp",
   "language": "python",
   "name": "geocomp"
  },
  "language_info": {
   "codemirror_mode": {
    "name": "ipython",
    "version": 3
   },
   "file_extension": ".py",
   "mimetype": "text/x-python",
   "name": "python",
   "nbconvert_exporter": "python",
   "pygments_lexer": "ipython3",
   "version": "3.8.6"
  }
 },
 "nbformat": 4,
 "nbformat_minor": 2
}
